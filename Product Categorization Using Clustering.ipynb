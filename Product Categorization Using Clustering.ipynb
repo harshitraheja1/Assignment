{
 "cells": [
  {
   "cell_type": "code",
   "execution_count": 1,
   "id": "cb76e1a9",
   "metadata": {},
   "outputs": [],
   "source": [
    "# Import necessary libraries\n",
    "import pandas as pd\n",
    "from sklearn.feature_extraction.text import TfidfVectorizer\n",
    "from sklearn.cluster import KMeans\n",
    "from sklearn.metrics import silhouette_score\n"
   ]
  },
  {
   "cell_type": "code",
   "execution_count": 2,
   "id": "876bd402",
   "metadata": {},
   "outputs": [],
   "source": [
    "df = pd.read_csv('combined_data.csv',low_memory=False)\n",
    "\n",
    "#df['product_category'] = df['product_category'].apply(lambda x: ' '.join(map(str, x)) if isinstance(x, list) else str(x))\n",
    "#df['product_category'].fillna('', inplace=True) #handle NULL values\n",
    "df = df.fillna('')\n",
    "\n",
    "# Combine relevant text columns\n",
    "df['combined_text'] = df['product_title'] + ' ' + df['meta_data_1']\n"
   ]
  },
  {
   "cell_type": "code",
   "execution_count": 3,
   "id": "8fcebe02",
   "metadata": {},
   "outputs": [
    {
     "name": "stderr",
     "output_type": "stream",
     "text": [
      "C:\\Users\\Lenovo\\anaconda3\\Lib\\site-packages\\sklearn\\cluster\\_kmeans.py:1412: FutureWarning: The default value of `n_init` will change from 10 to 'auto' in 1.4. Set the value of `n_init` explicitly to suppress the warning\n",
      "  super()._check_params_vs_input(X, default_n_init=10)\n"
     ]
    },
    {
     "name": "stdout",
     "output_type": "stream",
     "text": [
      "category\n",
      "Clothing                        98071\n",
      "Face & Body Care                88775\n",
      "Tools & Hardware                63414\n",
      "Sports & Fitness                35845\n",
      "Nightwear, Underwear & Socks    31277\n",
      "School Supplies                 23951\n",
      "Home Furnishing & Kitchen       21745\n",
      "Pet Supplies                    20132\n",
      "Accessories                     18331\n",
      "Babycare                        13665\n",
      "Books                           11903\n",
      "Automotive                      11282\n",
      "Footwear                         9705\n",
      "Electronics                      9100\n",
      "Toys                             6112\n",
      "Makeup                           4988\n",
      "Name: count, dtype: int64\n"
     ]
    }
   ],
   "source": [
    "# Feature Engineering\n",
    "tfidf_vectorizer = TfidfVectorizer(stop_words='english')\n",
    "X = tfidf_vectorizer.fit_transform(df['combined_text'])\n",
    "\n",
    "# Model Selection and Training (KMeans Clustering)\n",
    "num_clusters = 16  \n",
    "model = KMeans(n_clusters=num_clusters, random_state=42)\n",
    "model.fit(X)\n",
    "\n",
    "# Predict cluster labels for each data point\n",
    "df['cluster_label'] = model.predict(X)\n",
    "\n",
    "# Map cluster labels to corresponding categories\n",
    "category_mapping = {\n",
    "    0: 'Clothing',\n",
    "    1: 'Accessories',\n",
    "    2: 'Nightwear, Underwear & Socks',\n",
    "    3: 'Sports & Fitness',\n",
    "    4: 'Footwear',\n",
    "    5: 'Electronics',\n",
    "    6: 'Books',\n",
    "    7: 'Toys',\n",
    "    8: 'School Supplies',\n",
    "    9: 'Home Furnishing & Kitchen',\n",
    "    10: 'Automotive',\n",
    "    11: 'Pet Supplies',\n",
    "    12: 'Tools & Hardware',\n",
    "    13: 'Babycare',\n",
    "    14: 'Makeup',\n",
    "    15: 'Face & Body Care'\n",
    "}\n",
    "\n",
    "# Assign category labels to the clusters in the DataFrame\n",
    "df['category'] = df['cluster_label'].map(category_mapping)\n",
    "\n",
    "# Display the distribution of products across categories\n",
    "print(df['category'].value_counts())\n"
   ]
  },
  {
   "cell_type": "code",
   "execution_count": null,
   "id": "4e402b0b",
   "metadata": {},
   "outputs": [],
   "source": []
  }
 ],
 "metadata": {
  "kernelspec": {
   "display_name": "Python 3 (ipykernel)",
   "language": "python",
   "name": "python3"
  },
  "language_info": {
   "codemirror_mode": {
    "name": "ipython",
    "version": 3
   },
   "file_extension": ".py",
   "mimetype": "text/x-python",
   "name": "python",
   "nbconvert_exporter": "python",
   "pygments_lexer": "ipython3",
   "version": "3.11.5"
  }
 },
 "nbformat": 4,
 "nbformat_minor": 5
}
