{
 "cells": [
  {
   "cell_type": "markdown",
   "id": "e644d3a0",
   "metadata": {},
   "source": [
    "# Import the necessary libraries\n",
    "\n",
    "Pandas: To mainpulate and load dataset\n",
    "\n",
    "Train_test_split: To split the dataset into training and testing data\n",
    "\n",
    "TfidfVectorizer: Convert the string into numerical Vectors\n",
    "\n",
    "RandomForestClassifier: Machine Learning approach(workframe) to classify the items. \n",
    "\n",
    "MultinomialNB: Naive baye approach to classify\n",
    "\n",
    "Metrics: To calculate the accuracy and classification report that includes Presicion, Recall and F-1 Score\n",
    "\n",
    "Nltk: Library to perform the NLP techniques."
   ]
  },
  {
   "cell_type": "code",
   "execution_count": 2,
   "id": "ea65e49e",
   "metadata": {},
   "outputs": [],
   "source": [
    "import pandas as pd\n",
    "from sklearn.model_selection import train_test_split\n",
    "from sklearn.feature_extraction.text import TfidfVectorizer\n",
    "from sklearn.ensemble import RandomForestClassifier\n",
    "from sklearn.naive_bayes import MultinomialNB\n",
    "from sklearn.metrics import accuracy_score, classification_report\n",
    "from sklearn.preprocessing import MultiLabelBinarizer\n",
    "from nltk.corpus import stopwords\n",
    "from nltk.stem import WordNetLemmatizer\n",
    "import re\n",
    "import nltk\n"
   ]
  },
  {
   "cell_type": "markdown",
   "id": "50a872c4",
   "metadata": {},
   "source": [
    "# Load the dataset"
   ]
  },
  {
   "cell_type": "code",
   "execution_count": 3,
   "id": "4d534e5e",
   "metadata": {},
   "outputs": [],
   "source": [
    "df = pd.read_csv('E:/Harshit Raheja/Definition Health/Dataset/combined_data.csv',low_memory=False)"
   ]
  },
  {
   "cell_type": "code",
   "execution_count": 4,
   "id": "aeb3a20b",
   "metadata": {},
   "outputs": [],
   "source": [
    "df['product_category'] = df['product_category'].apply(lambda x: ' '.join(map(str, x)) if isinstance(x, list) else str(x))\n",
    "df['product_category'].fillna('', inplace=True) #handle NULL values"
   ]
  },
  {
   "cell_type": "code",
   "execution_count": 5,
   "id": "0199992a",
   "metadata": {},
   "outputs": [],
   "source": [
    "#categorize the product based on the list of three different things\n",
    "def categorize_product(category_list):\n",
    "    if 'Men' in category_list:\n",
    "        return 'Male'\n",
    "    elif 'Women' in category_list:\n",
    "        return 'Female'\n",
    "    else:\n",
    "        return 'Unisex'"
   ]
  },
  {
   "cell_type": "markdown",
   "id": "bd7763ec",
   "metadata": {},
   "source": [
    "# target value"
   ]
  },
  {
   "cell_type": "code",
   "execution_count": 7,
   "id": "f7d80f4a",
   "metadata": {},
   "outputs": [],
   "source": [
    "df['target_category'] = df['product_category'].apply(categorize_product)"
   ]
  },
  {
   "cell_type": "markdown",
   "id": "e7350664",
   "metadata": {},
   "source": [
    "# Preprocessping text using NLP"
   ]
  },
  {
   "cell_type": "code",
   "execution_count": 8,
   "id": "9057c9eb",
   "metadata": {},
   "outputs": [],
   "source": [
    " def clean_text(text):\n",
    "    if pd.isna(text):\n",
    "        return ''\n",
    "    \n",
    "    stop_words = set(stopwords.words('english'))\n",
    "    lemmatizer = WordNetLemmatizer()\n",
    "    \n",
    "    text = re.sub(r'[^a-zA-Z]', ' ', text) # Remove special characters and digits\n",
    "    \n",
    "    \n",
    "    words = text.lower().split() #Convert text into lowercase and split the words\n",
    "    \n",
    "    words = [lemmatizer.lemmatize(word) for word in words if word not in stop_words] ## Remove stopwords and lemmatize\n",
    "    \n",
    "    return ' '.join(words)\n",
    "\n",
    "# cleaning text of relevant columns\n",
    "text_columns = ['product_title', 'meta_data_1', 'meta_data_2', 'meta_data_3', 'spider_name']\n",
    "for col in text_columns:\n",
    "    df[col] = df[col].apply(clean_text)"
   ]
  },
  {
   "cell_type": "markdown",
   "id": "abf21b38",
   "metadata": {},
   "source": [
    "# Feature extraction"
   ]
  },
  {
   "cell_type": "code",
   "execution_count": 9,
   "id": "af46c952",
   "metadata": {},
   "outputs": [],
   "source": [
    "X = df[['product_title', 'meta_data_1', 'meta_data_2', 'meta_data_3', 'spider_name']].astype(str).agg(' '.join, axis=1)\n",
    "y = df['target_category']\n",
    "\n",
    "# Spliting data into training and testing sets\n",
    "X_train, X_test, y_train, y_test = train_test_split(X, y, test_size=0.3, random_state=42)"
   ]
  },
  {
   "cell_type": "markdown",
   "id": "481ef182",
   "metadata": {},
   "source": [
    "# Performing TF-IDF vectorization"
   ]
  },
  {
   "cell_type": "code",
   "execution_count": 10,
   "id": "16ecf9c2",
   "metadata": {},
   "outputs": [],
   "source": [
    "tfidf_vectorizer = TfidfVectorizer(stop_words='english')\n",
    "X_train_tfidf = tfidf_vectorizer.fit_transform(X_train)\n",
    "X_test_tfidf = tfidf_vectorizer.transform(X_test)\n"
   ]
  },
  {
   "cell_type": "markdown",
   "id": "6da84a50",
   "metadata": {},
   "source": [
    "# First ML Model"
   ]
  },
  {
   "cell_type": "code",
   "execution_count": 11,
   "id": "6b1d5600",
   "metadata": {},
   "outputs": [
    {
     "name": "stdout",
     "output_type": "stream",
     "text": [
      "Accuracy: 0.8521592437842108\n",
      "Classification Report:\n",
      "               precision    recall  f1-score   support\n",
      "\n",
      "      Female       0.78      0.89      0.83     41499\n",
      "        Male       0.71      0.65      0.68     21611\n",
      "      Unisex       0.94      0.89      0.91     77379\n",
      "\n",
      "    accuracy                           0.85    140489\n",
      "   macro avg       0.81      0.81      0.81    140489\n",
      "weighted avg       0.86      0.85      0.85    140489\n",
      "\n"
     ]
    }
   ],
   "source": [
    "classifier = MultinomialNB()\n",
    "classifier.fit(X_train_tfidf, y_train)\n",
    "\n",
    "# predictions on the test set\n",
    "predictions = classifier.predict(X_test_tfidf)\n",
    "\n",
    "\n",
    "# Evaluate the model\n",
    "accuracy = accuracy_score(y_test, predictions)\n",
    "report = classification_report(y_test, predictions)\n",
    "print(f'Accuracy: {accuracy}')\n",
    "print('Classification Report:\\n', report)\n"
   ]
  },
  {
   "cell_type": "markdown",
   "id": "b024a56b",
   "metadata": {},
   "source": [
    "# Second ML Model "
   ]
  },
  {
   "cell_type": "code",
   "execution_count": 12,
   "id": "4ea7c099",
   "metadata": {},
   "outputs": [],
   "source": [
    "from sklearn.tree import DecisionTreeClassifier\n",
    "\n",
    "clf = DecisionTreeClassifier(criterion=\"entropy\", random_state=0, max_depth=2)\n",
    "clf.fit(X_train_tfidf, y_train)\n",
    "\n",
    "pred = clf.predict(X_test_tfidf)"
   ]
  },
  {
   "cell_type": "markdown",
   "id": "b391b761",
   "metadata": {},
   "source": [
    "# Calculating Accuracy "
   ]
  },
  {
   "cell_type": "code",
   "execution_count": 13,
   "id": "884ffc9a",
   "metadata": {},
   "outputs": [
    {
     "name": "stdout",
     "output_type": "stream",
     "text": [
      "Accuracy: 0.6235150082924642\n",
      "Classification Report:\n",
      "               precision    recall  f1-score   support\n",
      "\n",
      "      Female       0.46      0.85      0.60     41499\n",
      "        Male       0.89      0.25      0.39     21611\n",
      "      Unisex       0.82      0.61      0.70     77379\n",
      "\n",
      "    accuracy                           0.62    140489\n",
      "   macro avg       0.72      0.57      0.56    140489\n",
      "weighted avg       0.72      0.62      0.62    140489\n",
      "\n"
     ]
    }
   ],
   "source": [
    "accuracy = accuracy_score(y_test, pred)\n",
    "report = classification_report(y_test, pred)\n",
    "\n",
    "print(f'Accuracy: {accuracy}')\n",
    "print('Classification Report:\\n', report)"
   ]
  },
  {
   "cell_type": "markdown",
   "id": "3e08fbfa",
   "metadata": {},
   "source": [
    "# Ploting Confusion Matrix of first one "
   ]
  },
  {
   "cell_type": "code",
   "execution_count": 14,
   "id": "8bb705a0",
   "metadata": {},
   "outputs": [
    {
     "data": {
      "image/png": "[encoded data removed]",
      "text/plain": [
       "<Figure size 800x600 with 2 Axes>"
      ]
     },
     "metadata": {},
     "output_type": "display_data"
    }
   ],
   "source": [
    "from sklearn.metrics import confusion_matrix\n",
    "import seaborn as sns\n",
    "import matplotlib.pyplot as plt\n",
    "conf_matrix = confusion_matrix(y_test, predictions)\n",
    "plt.figure(figsize=(8, 6))\n",
    "sns.heatmap(conf_matrix, annot=True, fmt='d', cmap='Blues', xticklabels=classifier.classes_, yticklabels=classifier.classes_)\n",
    "plt.title('Confusion Matrix')\n",
    "plt.xlabel('Predicted')\n",
    "plt.ylabel('Actual')\n",
    "plt.show()"
   ]
  },
  {
   "cell_type": "markdown",
   "id": "93b0f8d7",
   "metadata": {},
   "source": [
    "# taking user input"
   ]
  },
  {
   "cell_type": "code",
   "execution_count": 15,
   "id": "45a6b571",
   "metadata": {},
   "outputs": [
    {
     "name": "stdout",
     "output_type": "stream",
     "text": [
      "Enter product details: Lenovo Legion 5 series\n",
      "Predicted Gender Category: Unisex\n"
     ]
    }
   ],
   "source": [
    "user_input = input(\"Enter product details: \")\n",
    "cleaned_input = clean_text(user_input)\n",
    "user_input_tfidf = tfidf_vectorizer.transform([cleaned_input])\n",
    "predicted_category = classifier.predict(user_input_tfidf)[0]\n",
    "print(f'Predicted Gender Category: {predicted_category}')"
   ]
  },
  {
   "cell_type": "code",
   "execution_count": null,
   "id": "0a3823cb",
   "metadata": {},
   "outputs": [],
   "source": []
  }
 ],
 "metadata": {
  "kernelspec": {
   "display_name": "Python 3 (ipykernel)",
   "language": "python",
   "name": "python3"
  },
  "language_info": {
   "codemirror_mode": {
    "name": "ipython",
    "version": 3
   },
   "file_extension": ".py",
   "mimetype": "text/x-python",
   "name": "python",
   "nbconvert_exporter": "python",
   "pygments_lexer": "ipython3",
   "version": "3.11.5"
  }
 },
 "nbformat": 4,
 "nbformat_minor": 5
}
